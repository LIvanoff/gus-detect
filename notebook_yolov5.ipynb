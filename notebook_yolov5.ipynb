{
  "cells": [
    {
      "cell_type": "markdown",
      "metadata": {
        "id": "view-in-github",
        "colab_type": "text"
      },
      "source": [
        "<a href=\"https://colab.research.google.com/github/LIvanoff/gus-detect/blob/master/notebook_yolov5.ipynb\" target=\"_parent\"><img src=\"https://colab.research.google.com/assets/colab-badge.svg\" alt=\"Open In Colab\"/></a>"
      ]
    },
    {
      "cell_type": "markdown",
      "source": [
        "# Обучение Yolov5"
      ],
      "metadata": {
        "id": "mWIHuevg3hvR"
      }
    },
    {
      "cell_type": "markdown",
      "source": [
        "Клонируем Yolov5 с гитхаба"
      ],
      "metadata": {
        "id": "xaDWHoDe5OvM"
      }
    },
    {
      "cell_type": "code",
      "execution_count": null,
      "metadata": {
        "id": "F2tr7qcqtWAk",
        "outputId": "de080355-2e6e-455f-dbdb-da52feda4018",
        "colab": {
          "base_uri": "https://localhost:8080/"
        }
      },
      "outputs": [
        {
          "output_type": "stream",
          "name": "stdout",
          "text": [
            "Cloning into 'yolov5'...\n",
            "remote: Enumerating objects: 15701, done.\u001b[K\n",
            "remote: Counting objects: 100% (29/29), done.\u001b[K\n",
            "remote: Compressing objects: 100% (25/25), done.\u001b[K\n",
            "remote: Total 15701 (delta 7), reused 18 (delta 4), pack-reused 15672\u001b[K\n",
            "Receiving objects: 100% (15701/15701), 14.49 MiB | 19.54 MiB/s, done.\n",
            "Resolving deltas: 100% (10752/10752), done.\n"
          ]
        }
      ],
      "source": [
        "!git clone https://github.com/ultralytics/yolov5"
      ]
    },
    {
      "cell_type": "markdown",
      "source": [
        "Устанавливаем зависимости нужные yolov5"
      ],
      "metadata": {
        "id": "BIOiJ-s75k12"
      }
    },
    {
      "cell_type": "code",
      "execution_count": null,
      "metadata": {
        "id": "TOcOMe5Dtf0x"
      },
      "outputs": [],
      "source": [
        "%cd yolov5\n",
        "%pip install -r requirements.txt"
      ]
    },
    {
      "cell_type": "markdown",
      "source": [
        "Подключаем диск, в котором лежит ваш датасет"
      ],
      "metadata": {
        "id": "bcB6RGqV5ofa"
      }
    },
    {
      "cell_type": "code",
      "execution_count": null,
      "metadata": {
        "colab": {
          "base_uri": "https://localhost:8080/"
        },
        "id": "_SP7W5FcUI7B",
        "outputId": "6724ddf0-5594-49a8-d4cd-4d1e7f9c6f7a"
      },
      "outputs": [
        {
          "output_type": "stream",
          "name": "stdout",
          "text": [
            "Mounted at /content/drive/\n"
          ]
        }
      ],
      "source": [
        "from google.colab import drive\n",
        "drive.mount('/content/drive/')"
      ]
    },
    {
      "cell_type": "code",
      "execution_count": null,
      "metadata": {
        "id": "JBoYHA34vSfd"
      },
      "outputs": [],
      "source": [
        "!unzip -q /content/drive/MyDrive/Studying/yolo/yolov5/dataset.zip -d /content/"
      ]
    },
    {
      "cell_type": "code",
      "execution_count": null,
      "metadata": {
        "id": "RxkIJ8Ku9ZBe"
      },
      "outputs": [],
      "source": [
        "!unzip -q /content/drive/MyDrive/Studying/yolo/test.zip -d /content/"
      ]
    },
    {
      "cell_type": "code",
      "execution_count": null,
      "metadata": {
        "colab": {
          "base_uri": "https://localhost:8080/",
          "height": 121
        },
        "id": "4MOof87Xykb2",
        "outputId": "9377acab-d57f-4401-9cef-9e88bf13d9e0"
      },
      "outputs": [
        {
          "output_type": "stream",
          "name": "stdout",
          "text": [
            "\u001b[?25l     \u001b[90m━━━━━━━━━━━━━━━━━━━━━━━━━━━━━━━━━━━━━━━━\u001b[0m \u001b[32m0.0/2.0 MB\u001b[0m \u001b[31m?\u001b[0m eta \u001b[36m-:--:--\u001b[0m\r\u001b[2K     \u001b[90m━━━━━━━━━━━━━━━━━━━━━━━━━━━━━━━━━━━━━━━━\u001b[0m \u001b[32m2.0/2.0 MB\u001b[0m \u001b[31m81.1 MB/s\u001b[0m eta \u001b[36m0:00:00\u001b[0m\n",
            "\u001b[?25h  Preparing metadata (setup.py) ... \u001b[?25l\u001b[?25hdone\n",
            "  Building wheel for pathtools (setup.py) ... \u001b[?25l\u001b[?25hdone\n"
          ]
        },
        {
          "output_type": "display_data",
          "data": {
            "text/plain": [
              "<IPython.core.display.Javascript object>"
            ],
            "application/javascript": [
              "\n",
              "        window._wandbApiKey = new Promise((resolve, reject) => {\n",
              "            function loadScript(url) {\n",
              "            return new Promise(function(resolve, reject) {\n",
              "                let newScript = document.createElement(\"script\");\n",
              "                newScript.onerror = reject;\n",
              "                newScript.onload = resolve;\n",
              "                document.body.appendChild(newScript);\n",
              "                newScript.src = url;\n",
              "            });\n",
              "            }\n",
              "            loadScript(\"https://cdn.jsdelivr.net/npm/postmate/build/postmate.min.js\").then(() => {\n",
              "            const iframe = document.createElement('iframe')\n",
              "            iframe.style.cssText = \"width:0;height:0;border:none\"\n",
              "            document.body.appendChild(iframe)\n",
              "            const handshake = new Postmate({\n",
              "                container: iframe,\n",
              "                url: 'https://wandb.ai/authorize'\n",
              "            });\n",
              "            const timeout = setTimeout(() => reject(\"Couldn't auto authenticate\"), 5000)\n",
              "            handshake.then(function(child) {\n",
              "                child.on('authorize', data => {\n",
              "                    clearTimeout(timeout)\n",
              "                    resolve(data)\n",
              "                });\n",
              "            });\n",
              "            })\n",
              "        });\n",
              "    "
            ]
          },
          "metadata": {}
        },
        {
          "output_type": "stream",
          "name": "stderr",
          "text": [
            "\u001b[34m\u001b[1mwandb\u001b[0m: Appending key for api.wandb.ai to your netrc file: /root/.netrc\n"
          ]
        },
        {
          "output_type": "execute_result",
          "data": {
            "text/plain": [
              "True"
            ]
          },
          "metadata": {},
          "execution_count": 7
        }
      ],
      "source": [
        "!pip install -q wandb\n",
        "import wandb\n",
        "wandb.login()"
      ]
    },
    {
      "cell_type": "code",
      "source": [
        "# /content/yolov5/runs/train/exp/weights/best.pt"
      ],
      "metadata": {
        "id": "YnJsScxVXa5g"
      },
      "execution_count": null,
      "outputs": []
    },
    {
      "cell_type": "code",
      "execution_count": null,
      "metadata": {
        "colab": {
          "base_uri": "https://localhost:8080/"
        },
        "id": "KsmWaBy8zVwQ",
        "outputId": "8a7a36f4-f79b-4e4c-e82c-c3b5e52caef2"
      },
      "outputs": [
        {
          "output_type": "stream",
          "name": "stdout",
          "text": [
            "\u001b[34m\u001b[1mwandb\u001b[0m: WARNING ⚠️ wandb is deprecated and will be removed in a future release. See supported integrations at https://github.com/ultralytics/yolov5#integrations.\n",
            "\u001b[34m\u001b[1mwandb\u001b[0m: Currently logged in as: \u001b[33mdrfrily\u001b[0m (\u001b[33mzavodchane\u001b[0m). Use \u001b[1m`wandb login --relogin`\u001b[0m to force relogin\n",
            "\u001b[34m\u001b[1mtrain: \u001b[0mweights=yolov5x.pt, cfg=, data=coco128.yaml, hyp=data/hyps/hyp.scratch-low.yaml, epochs=50, batch_size=40, imgsz=640, rect=False, resume=False, nosave=False, noval=False, noautoanchor=False, noplots=False, evolve=None, bucket=, cache=ram, image_weights=False, device=, multi_scale=False, single_cls=False, optimizer=SGD, sync_bn=False, workers=8, project=runs/train, name=exp, exist_ok=False, quad=False, cos_lr=False, label_smoothing=0.0, patience=100, freeze=[0], save_period=-1, seed=0, local_rank=-1, entity=None, upload_dataset=False, bbox_interval=-1, artifact_alias=latest\n",
            "\u001b[34m\u001b[1mgithub: \u001b[0mup to date with https://github.com/ultralytics/yolov5 ✅\n",
            "YOLOv5 🚀 v7.0-169-geef637c Python-3.10.11 torch-2.0.1+cu118 CUDA:0 (NVIDIA A100-SXM4-40GB, 40514MiB)\n",
            "\n",
            "\u001b[34m\u001b[1mhyperparameters: \u001b[0mlr0=0.01, lrf=0.01, momentum=0.937, weight_decay=0.0005, warmup_epochs=3.0, warmup_momentum=0.8, warmup_bias_lr=0.1, box=0.05, cls=0.5, cls_pw=1.0, obj=1.0, obj_pw=1.0, iou_t=0.2, anchor_t=4.0, fl_gamma=0.0, hsv_h=0.015, hsv_s=0.7, hsv_v=0.4, degrees=0.0, translate=0.1, scale=0.5, shear=0.0, perspective=0.0, flipud=0.0, fliplr=0.5, mosaic=1.0, mixup=0.0, copy_paste=0.0\n",
            "\u001b[34m\u001b[1mClearML: \u001b[0mrun 'pip install clearml' to automatically track, visualize and remotely train YOLOv5 🚀 in ClearML\n",
            "\u001b[34m\u001b[1mComet: \u001b[0mrun 'pip install comet_ml' to automatically track and visualize YOLOv5 🚀 runs in Comet\n",
            "\u001b[34m\u001b[1mTensorBoard: \u001b[0mStart with 'tensorboard --logdir runs/train', view at http://localhost:6006/\n",
            "\u001b[34m\u001b[1mwandb\u001b[0m: Tracking run with wandb version 0.15.3\n",
            "\u001b[34m\u001b[1mwandb\u001b[0m: Run data is saved locally in \u001b[35m\u001b[1m/content/yolov5/wandb/run-20230521_050118-broef8u8\u001b[0m\n",
            "\u001b[34m\u001b[1mwandb\u001b[0m: Run \u001b[1m`wandb offline`\u001b[0m to turn off syncing.\n",
            "\u001b[34m\u001b[1mwandb\u001b[0m: Syncing run \u001b[33msoft-salad-24\u001b[0m\n",
            "\u001b[34m\u001b[1mwandb\u001b[0m: ⭐️ View project at \u001b[34m\u001b[4mhttps://wandb.ai/zavodchane/YOLOv5\u001b[0m\n",
            "\u001b[34m\u001b[1mwandb\u001b[0m: 🚀 View run at \u001b[34m\u001b[4mhttps://wandb.ai/zavodchane/YOLOv5/runs/broef8u8\u001b[0m\n",
            "Overriding model.yaml nc=80 with nc=3\n",
            "\n",
            "                 from  n    params  module                                  arguments                     \n",
            "  0                -1  1      8800  models.common.Conv                      [3, 80, 6, 2, 2]              \n",
            "  1                -1  1    115520  models.common.Conv                      [80, 160, 3, 2]               \n",
            "  2                -1  4    309120  models.common.C3                        [160, 160, 4]                 \n",
            "  3                -1  1    461440  models.common.Conv                      [160, 320, 3, 2]              \n",
            "  4                -1  8   2259200  models.common.C3                        [320, 320, 8]                 \n",
            "  5                -1  1   1844480  models.common.Conv                      [320, 640, 3, 2]              \n",
            "  6                -1 12  13125120  models.common.C3                        [640, 640, 12]                \n",
            "  7                -1  1   7375360  models.common.Conv                      [640, 1280, 3, 2]             \n",
            "  8                -1  4  19676160  models.common.C3                        [1280, 1280, 4]               \n",
            "  9                -1  1   4099840  models.common.SPPF                      [1280, 1280, 5]               \n",
            " 10                -1  1    820480  models.common.Conv                      [1280, 640, 1, 1]             \n",
            " 11                -1  1         0  torch.nn.modules.upsampling.Upsample    [None, 2, 'nearest']          \n",
            " 12           [-1, 6]  1         0  models.common.Concat                    [1]                           \n",
            " 13                -1  4   5332480  models.common.C3                        [1280, 640, 4, False]         \n",
            " 14                -1  1    205440  models.common.Conv                      [640, 320, 1, 1]              \n",
            " 15                -1  1         0  torch.nn.modules.upsampling.Upsample    [None, 2, 'nearest']          \n",
            " 16           [-1, 4]  1         0  models.common.Concat                    [1]                           \n",
            " 17                -1  4   1335040  models.common.C3                        [640, 320, 4, False]          \n",
            " 18                -1  1    922240  models.common.Conv                      [320, 320, 3, 2]              \n",
            " 19          [-1, 14]  1         0  models.common.Concat                    [1]                           \n",
            " 20                -1  4   4922880  models.common.C3                        [640, 640, 4, False]          \n",
            " 21                -1  1   3687680  models.common.Conv                      [640, 640, 3, 2]              \n",
            " 22          [-1, 10]  1         0  models.common.Concat                    [1]                           \n",
            " 23                -1  4  19676160  models.common.C3                        [1280, 1280, 4, False]        \n",
            " 24      [17, 20, 23]  1     53832  models.yolo.Detect                      [3, [[10, 13, 16, 30, 33, 23], [30, 61, 62, 45, 59, 119], [116, 90, 156, 198, 373, 326]], [320, 640, 1280]]\n",
            "Model summary: 445 layers, 86231272 parameters, 86231272 gradients, 204.7 GFLOPs\n",
            "\n",
            "Transferred 739/745 items from yolov5x.pt\n",
            "\u001b[34m\u001b[1mAMP: \u001b[0mchecks passed ✅\n",
            "\u001b[34m\u001b[1moptimizer:\u001b[0m SGD(lr=0.01) with parameter groups 123 weight(decay=0.0), 126 weight(decay=0.000625), 126 bias\n",
            "\u001b[34m\u001b[1malbumentations: \u001b[0mBlur(p=0.01, blur_limit=(3, 7)), MedianBlur(p=0.01, blur_limit=(3, 7)), ToGray(p=0.01), CLAHE(p=0.01, clip_limit=(1, 4.0), tile_grid_size=(8, 8))\n",
            "\u001b[34m\u001b[1mtrain: \u001b[0mScanning /content/v5_big_dataset/dataset/train/labels.cache... 15771 images, 431 backgrounds, 2 corrupt: 100% 15777/15777 [00:00<?, ?it/s]\n",
            "\u001b[34m\u001b[1mtrain: \u001b[0mWARNING ⚠️ /content/v5_big_dataset/dataset/train/images/not_swan_77.jpg: ignoring corrupt image/label: image file is truncated (55 bytes not processed)\n",
            "\u001b[34m\u001b[1mtrain: \u001b[0mWARNING ⚠️ /content/v5_big_dataset/dataset/train/images/not_swan_96.jpg: ignoring corrupt image/label: image file is truncated (2 bytes not processed)\n",
            "\u001b[34m\u001b[1mtrain: \u001b[0mCaching images (13.3GB ram): 100% 15775/15775 [00:39<00:00, 396.72it/s]\n",
            "\u001b[34m\u001b[1mval: \u001b[0mScanning /content/v5_big_dataset/dataset/val/labels.cache... 3073 images, 2 backgrounds, 42 corrupt: 100% 3117/3117 [00:00<?, ?it/s]\n",
            "\u001b[34m\u001b[1mval: \u001b[0mWARNING ⚠️ /content/v5_big_dataset/dataset/val/images/aug_img_2998.jpg: ignoring corrupt image/label: cannot identify image file '/content/v5_big_dataset/dataset/val/images/aug_img_2998.jpg'\n",
            "\u001b[34m\u001b[1mval: \u001b[0mWARNING ⚠️ /content/v5_big_dataset/dataset/val/images/aug_small_2922.jpg: ignoring corrupt image/label: cannot identify image file '/content/v5_big_dataset/dataset/val/images/aug_small_2922.jpg'\n",
            "\u001b[34m\u001b[1mval: \u001b[0mWARNING ⚠️ /content/v5_big_dataset/dataset/val/images/aug_small_2923.jpg: ignoring corrupt image/label: cannot identify image file '/content/v5_big_dataset/dataset/val/images/aug_small_2923.jpg'\n",
            "\u001b[34m\u001b[1mval: \u001b[0mWARNING ⚠️ /content/v5_big_dataset/dataset/val/images/aug_small_2924.jpg: ignoring corrupt image/label: cannot identify image file '/content/v5_big_dataset/dataset/val/images/aug_small_2924.jpg'\n",
            "\u001b[34m\u001b[1mval: \u001b[0mWARNING ⚠️ /content/v5_big_dataset/dataset/val/images/aug_small_2925.jpg: ignoring corrupt image/label: cannot identify image file '/content/v5_big_dataset/dataset/val/images/aug_small_2925.jpg'\n",
            "\u001b[34m\u001b[1mval: \u001b[0mWARNING ⚠️ /content/v5_big_dataset/dataset/val/images/aug_small_2926.jpg: ignoring corrupt image/label: cannot identify image file '/content/v5_big_dataset/dataset/val/images/aug_small_2926.jpg'\n",
            "\u001b[34m\u001b[1mval: \u001b[0mWARNING ⚠️ /content/v5_big_dataset/dataset/val/images/aug_small_2927.jpg: ignoring corrupt image/label: cannot identify image file '/content/v5_big_dataset/dataset/val/images/aug_small_2927.jpg'\n",
            "\u001b[34m\u001b[1mval: \u001b[0mWARNING ⚠️ /content/v5_big_dataset/dataset/val/images/aug_small_2928.jpg: ignoring corrupt image/label: cannot identify image file '/content/v5_big_dataset/dataset/val/images/aug_small_2928.jpg'\n",
            "\u001b[34m\u001b[1mval: \u001b[0mWARNING ⚠️ /content/v5_big_dataset/dataset/val/images/aug_small_2929.jpg: ignoring corrupt image/label: cannot identify image file '/content/v5_big_dataset/dataset/val/images/aug_small_2929.jpg'\n",
            "\u001b[34m\u001b[1mval: \u001b[0mWARNING ⚠️ /content/v5_big_dataset/dataset/val/images/aug_small_2930.jpg: ignoring corrupt image/label: cannot identify image file '/content/v5_big_dataset/dataset/val/images/aug_small_2930.jpg'\n",
            "\u001b[34m\u001b[1mval: \u001b[0mWARNING ⚠️ /content/v5_big_dataset/dataset/val/images/aug_small_2931.jpg: ignoring corrupt image/label: cannot identify image file '/content/v5_big_dataset/dataset/val/images/aug_small_2931.jpg'\n",
            "\u001b[34m\u001b[1mval: \u001b[0mWARNING ⚠️ /content/v5_big_dataset/dataset/val/images/aug_small_2932.jpg: ignoring corrupt image/label: cannot identify image file '/content/v5_big_dataset/dataset/val/images/aug_small_2932.jpg'\n",
            "\u001b[34m\u001b[1mval: \u001b[0mWARNING ⚠️ /content/v5_big_dataset/dataset/val/images/aug_small_2933.jpg: ignoring corrupt image/label: cannot identify image file '/content/v5_big_dataset/dataset/val/images/aug_small_2933.jpg'\n",
            "\u001b[34m\u001b[1mval: \u001b[0mWARNING ⚠️ /content/v5_big_dataset/dataset/val/images/aug_small_2935.jpg: ignoring corrupt image/label: cannot identify image file '/content/v5_big_dataset/dataset/val/images/aug_small_2935.jpg'\n",
            "\u001b[34m\u001b[1mval: \u001b[0mWARNING ⚠️ /content/v5_big_dataset/dataset/val/images/aug_small_2936.jpg: ignoring corrupt image/label: cannot identify image file '/content/v5_big_dataset/dataset/val/images/aug_small_2936.jpg'\n",
            "\u001b[34m\u001b[1mval: \u001b[0mWARNING ⚠️ /content/v5_big_dataset/dataset/val/images/aug_small_2937.jpg: ignoring corrupt image/label: cannot identify image file '/content/v5_big_dataset/dataset/val/images/aug_small_2937.jpg'\n",
            "\u001b[34m\u001b[1mval: \u001b[0mWARNING ⚠️ /content/v5_big_dataset/dataset/val/images/aug_small_2938.jpg: ignoring corrupt image/label: cannot identify image file '/content/v5_big_dataset/dataset/val/images/aug_small_2938.jpg'\n",
            "\u001b[34m\u001b[1mval: \u001b[0mWARNING ⚠️ /content/v5_big_dataset/dataset/val/images/aug_small_2939.jpg: ignoring corrupt image/label: cannot identify image file '/content/v5_big_dataset/dataset/val/images/aug_small_2939.jpg'\n",
            "\u001b[34m\u001b[1mval: \u001b[0mWARNING ⚠️ /content/v5_big_dataset/dataset/val/images/aug_small_2940.jpg: ignoring corrupt image/label: cannot identify image file '/content/v5_big_dataset/dataset/val/images/aug_small_2940.jpg'\n",
            "\u001b[34m\u001b[1mval: \u001b[0mWARNING ⚠️ /content/v5_big_dataset/dataset/val/images/aug_small_2941.jpg: ignoring corrupt image/label: cannot identify image file '/content/v5_big_dataset/dataset/val/images/aug_small_2941.jpg'\n",
            "\u001b[34m\u001b[1mval: \u001b[0mWARNING ⚠️ /content/v5_big_dataset/dataset/val/images/aug_small_2942.jpg: ignoring corrupt image/label: cannot identify image file '/content/v5_big_dataset/dataset/val/images/aug_small_2942.jpg'\n",
            "\u001b[34m\u001b[1mval: \u001b[0mWARNING ⚠️ /content/v5_big_dataset/dataset/val/images/aug_small_2943.jpg: ignoring corrupt image/label: cannot identify image file '/content/v5_big_dataset/dataset/val/images/aug_small_2943.jpg'\n",
            "\u001b[34m\u001b[1mval: \u001b[0mWARNING ⚠️ /content/v5_big_dataset/dataset/val/images/aug_small_2944.jpg: ignoring corrupt image/label: cannot identify image file '/content/v5_big_dataset/dataset/val/images/aug_small_2944.jpg'\n",
            "\u001b[34m\u001b[1mval: \u001b[0mWARNING ⚠️ /content/v5_big_dataset/dataset/val/images/aug_small_2946.jpg: ignoring corrupt image/label: cannot identify image file '/content/v5_big_dataset/dataset/val/images/aug_small_2946.jpg'\n",
            "\u001b[34m\u001b[1mval: \u001b[0mWARNING ⚠️ /content/v5_big_dataset/dataset/val/images/aug_small_2947.jpg: ignoring corrupt image/label: cannot identify image file '/content/v5_big_dataset/dataset/val/images/aug_small_2947.jpg'\n",
            "\u001b[34m\u001b[1mval: \u001b[0mWARNING ⚠️ /content/v5_big_dataset/dataset/val/images/aug_small_2948.jpg: ignoring corrupt image/label: cannot identify image file '/content/v5_big_dataset/dataset/val/images/aug_small_2948.jpg'\n",
            "\u001b[34m\u001b[1mval: \u001b[0mWARNING ⚠️ /content/v5_big_dataset/dataset/val/images/aug_small_2949.jpg: ignoring corrupt image/label: cannot identify image file '/content/v5_big_dataset/dataset/val/images/aug_small_2949.jpg'\n",
            "\u001b[34m\u001b[1mval: \u001b[0mWARNING ⚠️ /content/v5_big_dataset/dataset/val/images/aug_small_2950.jpg: ignoring corrupt image/label: cannot identify image file '/content/v5_big_dataset/dataset/val/images/aug_small_2950.jpg'\n",
            "\u001b[34m\u001b[1mval: \u001b[0mWARNING ⚠️ /content/v5_big_dataset/dataset/val/images/aug_small_2951.jpg: ignoring corrupt image/label: cannot identify image file '/content/v5_big_dataset/dataset/val/images/aug_small_2951.jpg'\n",
            "\u001b[34m\u001b[1mval: \u001b[0mWARNING ⚠️ /content/v5_big_dataset/dataset/val/images/aug_small_2952.jpg: ignoring corrupt image/label: cannot identify image file '/content/v5_big_dataset/dataset/val/images/aug_small_2952.jpg'\n",
            "\u001b[34m\u001b[1mval: \u001b[0mWARNING ⚠️ /content/v5_big_dataset/dataset/val/images/aug_small_2953.jpg: ignoring corrupt image/label: cannot identify image file '/content/v5_big_dataset/dataset/val/images/aug_small_2953.jpg'\n",
            "\u001b[34m\u001b[1mval: \u001b[0mWARNING ⚠️ /content/v5_big_dataset/dataset/val/images/aug_small_2954.jpg: ignoring corrupt image/label: cannot identify image file '/content/v5_big_dataset/dataset/val/images/aug_small_2954.jpg'\n",
            "\u001b[34m\u001b[1mval: \u001b[0mWARNING ⚠️ /content/v5_big_dataset/dataset/val/images/aug_small_2955.jpg: ignoring corrupt image/label: cannot identify image file '/content/v5_big_dataset/dataset/val/images/aug_small_2955.jpg'\n",
            "\u001b[34m\u001b[1mval: \u001b[0mWARNING ⚠️ /content/v5_big_dataset/dataset/val/images/aug_small_2957.jpg: ignoring corrupt image/label: cannot identify image file '/content/v5_big_dataset/dataset/val/images/aug_small_2957.jpg'\n",
            "\u001b[34m\u001b[1mval: \u001b[0mWARNING ⚠️ /content/v5_big_dataset/dataset/val/images/aug_small_2958.jpg: ignoring corrupt image/label: cannot identify image file '/content/v5_big_dataset/dataset/val/images/aug_small_2958.jpg'\n",
            "\u001b[34m\u001b[1mval: \u001b[0mWARNING ⚠️ /content/v5_big_dataset/dataset/val/images/aug_small_2959.jpg: ignoring corrupt image/label: cannot identify image file '/content/v5_big_dataset/dataset/val/images/aug_small_2959.jpg'\n",
            "\u001b[34m\u001b[1mval: \u001b[0mWARNING ⚠️ /content/v5_big_dataset/dataset/val/images/aug_small_2960.jpg: ignoring corrupt image/label: cannot identify image file '/content/v5_big_dataset/dataset/val/images/aug_small_2960.jpg'\n",
            "\u001b[34m\u001b[1mval: \u001b[0mWARNING ⚠️ /content/v5_big_dataset/dataset/val/images/aug_small_2961.jpg: ignoring corrupt image/label: cannot identify image file '/content/v5_big_dataset/dataset/val/images/aug_small_2961.jpg'\n",
            "\u001b[34m\u001b[1mval: \u001b[0mWARNING ⚠️ /content/v5_big_dataset/dataset/val/images/aug_small_2962.jpg: ignoring corrupt image/label: cannot identify image file '/content/v5_big_dataset/dataset/val/images/aug_small_2962.jpg'\n",
            "\u001b[34m\u001b[1mval: \u001b[0mWARNING ⚠️ /content/v5_big_dataset/dataset/val/images/aug_small_2963.jpg: ignoring corrupt image/label: cannot identify image file '/content/v5_big_dataset/dataset/val/images/aug_small_2963.jpg'\n",
            "\u001b[34m\u001b[1mval: \u001b[0mWARNING ⚠️ /content/v5_big_dataset/dataset/val/images/aug_small_2964.jpg: ignoring corrupt image/label: cannot identify image file '/content/v5_big_dataset/dataset/val/images/aug_small_2964.jpg'\n",
            "\u001b[34m\u001b[1mval: \u001b[0mWARNING ⚠️ /content/v5_big_dataset/dataset/val/images/aug_small_2965.jpg: ignoring corrupt image/label: cannot identify image file '/content/v5_big_dataset/dataset/val/images/aug_small_2965.jpg'\n",
            "\u001b[34m\u001b[1mval: \u001b[0mCaching images (2.6GB ram): 100% 3075/3075 [00:17<00:00, 178.41it/s]\n",
            "\n",
            "\u001b[34m\u001b[1mAutoAnchor: \u001b[0m3.75 anchors/target, 1.000 Best Possible Recall (BPR). Current anchors are a good fit to dataset ✅\n",
            "Plotting labels to runs/train/exp9/labels.jpg... \n",
            "Image sizes 640 train, 640 val\n",
            "Using 8 dataloader workers\n",
            "Logging results to \u001b[1mruns/train/exp9\u001b[0m\n",
            "Starting training for 50 epochs...\n",
            "\n",
            "      Epoch    GPU_mem   box_loss   obj_loss   cls_loss  Instances       Size\n",
            "       0/49      33.9G    0.04748    0.02437    0.02998         47        640: 100% 395/395 [03:09<00:00,  2.08it/s]\n",
            "                 Class     Images  Instances          P          R      mAP50   mAP50-95: 100% 39/39 [00:24<00:00,  1.62it/s]\n",
            "                   all       3075       4567      0.657      0.729      0.751      0.555\n",
            "\n",
            "      Epoch    GPU_mem   box_loss   obj_loss   cls_loss  Instances       Size\n",
            "       1/49      30.5G     0.0325    0.01596     0.0146         55        640: 100% 395/395 [03:04<00:00,  2.14it/s]\n",
            "                 Class     Images  Instances          P          R      mAP50   mAP50-95: 100% 39/39 [00:23<00:00,  1.65it/s]\n",
            "                   all       3075       4567      0.858      0.799      0.875      0.697\n",
            "\n",
            "      Epoch    GPU_mem   box_loss   obj_loss   cls_loss  Instances       Size\n",
            "       2/49      30.5G     0.0301    0.01574    0.01217         59        640: 100% 395/395 [03:00<00:00,  2.19it/s]\n",
            "                 Class     Images  Instances          P          R      mAP50   mAP50-95: 100% 39/39 [00:23<00:00,  1.64it/s]\n",
            "                   all       3075       4567      0.749      0.637      0.725      0.548\n",
            "\n",
            "      Epoch    GPU_mem   box_loss   obj_loss   cls_loss  Instances       Size\n",
            "       3/49      30.5G    0.02851     0.0163    0.01289         39        640: 100% 395/395 [02:57<00:00,  2.23it/s]\n",
            "                 Class     Images  Instances          P          R      mAP50   mAP50-95: 100% 39/39 [00:23<00:00,  1.63it/s]\n",
            "                   all       3075       4567      0.818      0.751      0.831      0.682\n",
            "\n",
            "      Epoch    GPU_mem   box_loss   obj_loss   cls_loss  Instances       Size\n",
            "       4/49      30.5G    0.02789    0.01617    0.01233        167        640:  63% 248/395 [01:51<01:06,  2.23it/s]\n",
            "Traceback (most recent call last):\n",
            "  File \"/content/yolov5/train.py\", line 312, in train\n",
            "    pred = model(imgs)  # forward\n",
            "  File \"/usr/local/lib/python3.10/dist-packages/torch/nn/modules/module.py\", line 1501, in _call_impl\n",
            "    return forward_call(*args, **kwargs)\n",
            "  File \"/content/yolov5/models/yolo.py\", line 209, in forward\n",
            "    return self._forward_once(x, profile, visualize)  # single-scale inference, train\n",
            "  File \"/content/yolov5/models/yolo.py\", line 121, in _forward_once\n",
            "    x = m(x)  # run\n",
            "  File \"/usr/local/lib/python3.10/dist-packages/torch/nn/modules/module.py\", line 1501, in _call_impl\n",
            "    return forward_call(*args, **kwargs)\n",
            "  File \"/usr/local/lib/python3.10/dist-packages/torch/nn/modules/upsampling.py\", line 156, in forward\n",
            "    return F.interpolate(input, self.size, self.scale_factor, self.mode, self.align_corners,\n",
            "  File \"/usr/local/lib/python3.10/dist-packages/torch/nn/functional.py\", line 3931, in interpolate\n",
            "    return torch._C._nn.upsample_nearest2d(input, output_size, scale_factors)\n",
            "KeyboardInterrupt\n",
            "\n",
            "During handling of the above exception, another exception occurred:\n",
            "\n",
            "Traceback (most recent call last):\n",
            "  File \"/content/yolov5/train.py\", line 642, in <module>\n",
            "    main(opt)\n",
            "  File \"/content/yolov5/train.py\", line 531, in main\n",
            "    train(opt.hyp, opt, device, callbacks)\n",
            "  File \"/content/yolov5/train.py\", line 311, in train\n",
            "    with torch.cuda.amp.autocast(amp):\n",
            "  File \"/usr/local/lib/python3.10/dist-packages/torch/cuda/amp/autocast_mode.py\", line 36, in __exit__\n",
            "    return super().__exit__(exc_type, exc_val, exc_tb)\n",
            "  File \"/usr/local/lib/python3.10/dist-packages/torch/amp/autocast_mode.py\", line 291, in __exit__\n",
            "    torch.clear_autocast_cache()\n",
            "KeyboardInterrupt\n",
            "Exception in thread Thread-16 (_pin_memory_loop):\n",
            "Traceback (most recent call last):\n",
            "  File \"/usr/lib/python3.10/threading.py\", line 1016, in _bootstrap_inner\n",
            "    self.run()\n",
            "  File \"/usr/lib/python3.10/threading.py\", line 953, in run\n",
            "    self._target(*self._args, **self._kwargs)\n",
            "  File \"/usr/local/lib/python3.10/dist-packages/torch/utils/data/_utils/pin_memory.py\", line 51, in _pin_memory_loop\n",
            "    do_one_step()\n",
            "  File \"/usr/local/lib/python3.10/dist-packages/torch/utils/data/_utils/pin_memory.py\", line 28, in do_one_step\n",
            "    r = in_queue.get(timeout=MP_STATUS_CHECK_INTERVAL)\n",
            "  File \"/usr/lib/python3.10/multiprocessing/queues.py\", line 122, in get\n",
            "    return _ForkingPickler.loads(res)\n",
            "  File \"/usr/local/lib/python3.10/dist-packages/torch/multiprocessing/reductions.py\", line 307, in rebuild_storage_fd\n",
            "    fd = df.detach()\n",
            "  File \"/usr/lib/python3.10/multiprocessing/resource_sharer.py\", line 57, in detach\n",
            "    with _resource_sharer.get_connection(self._id) as conn:\n",
            "  File \"/usr/lib/python3.10/multiprocessing/resource_sharer.py\", line 86, in get_connection\n",
            "    c = Client(address, authkey=process.current_process().authkey)\n",
            "  File \"/usr/lib/python3.10/multiprocessing/connection.py\", line 502, in Client\n",
            "    c = SocketClient(address)\n",
            "  File \"/usr/lib/python3.10/multiprocessing/connection.py\", line 630, in SocketClient\n",
            "    s.connect(address)\n",
            "FileNotFoundError: [Errno 2] No such file or directory\n",
            "^C\n"
          ]
        }
      ],
      "source": [
        "!python train.py --img 640 --batch 40 --epochs 50 --data coco128.yaml --weights yolov5x.pt --cache"
      ]
    },
    {
      "cell_type": "code",
      "execution_count": null,
      "metadata": {
        "colab": {
          "base_uri": "https://localhost:8080/"
        },
        "id": "k_m0NAfD8q6j",
        "outputId": "b644c040-ef7f-43bf-b503-577612fb544c"
      },
      "outputs": [
        {
          "output_type": "stream",
          "name": "stdout",
          "text": [
            "\u001b[34m\u001b[1mdetect: \u001b[0mweights=['/content/yolov5/runs/train/exp4/weights/best.pt'], source=/content/test/, data=data/coco128.yaml, imgsz=[640, 640], conf_thres=0.5, iou_thres=0.45, max_det=1000, device=, view_img=False, save_txt=False, save_conf=False, save_crop=False, nosave=False, classes=None, agnostic_nms=False, augment=False, visualize=False, update=False, project=runs/detect, name=exp, exist_ok=False, line_thickness=3, hide_labels=False, hide_conf=False, half=False, dnn=False, vid_stride=1\n",
            "YOLOv5 🚀 v7.0-169-geef637c Python-3.10.11 torch-2.0.1+cu118 CUDA:0 (NVIDIA A100-SXM4-40GB, 40514MiB)\n",
            "\n",
            "Fusing layers... \n",
            "Model summary: 322 layers, 86186872 parameters, 0 gradients, 203.8 GFLOPs\n",
            "image 1/6 /content/test/1c35a7481627b8892ff46ec1f3e29d69.jpeg: 448x640 7 shipuns, 86.8ms\n",
            "image 2/6 /content/test/JDU5dY97aoY.jpg: 480x640 (no detections), 85.4ms\n",
            "image 3/6 /content/test/shipun83.jpg: 448x640 1 shipun, 12.4ms\n",
            "image 4/6 /content/test/shipun85.jpg: 448x640 1 shipun, 12.1ms\n",
            "image 5/6 /content/test/staya.jpg: 448x640 11 shipuns, 12.0ms\n",
            "image 6/6 /content/test/xvKPP69-p8w.jpg: 384x640 5 shipuns, 87.2ms\n",
            "Speed: 0.5ms pre-process, 49.3ms inference, 1.1ms NMS per image at shape (1, 3, 640, 640)\n",
            "Results saved to \u001b[1mruns/detect/exp2\u001b[0m\n"
          ]
        }
      ],
      "source": [
        "!python detect.py --weights /content/yolov5/runs/train/exp/weights/best.pt --img 640 --conf 0.5 --source /content/test/"
      ]
    },
    {
      "cell_type": "code",
      "source": [
        "import matplotlib.pyplot as plt\n",
        "import numpy as np\n",
        "\n",
        "v5x_conf = [0.5, 0.6, 0.7, 0.8, 0.9]\n",
        "v5x_acc = [0.97, 0.96, 0.954, 0.945, 0.9]\n",
        "v5s_acc = [0.95, 0.93, 0.92, 0.88, 0.74]\n",
        "\n",
        "v5m_acc = [97.14285714285714,\t96.28571428571429,\t95.42857142857143,\t93.14285714285714,\t86.85714285714286]\n",
        "v5n_acc = [0.93, 0.92, 85.71428571428571, 79.14285714285715, 58.857142857142854]\n",
        "\n",
        "plt.figure(figsize=(10,10))\n",
        "plt.plot(v5x_conf, v5x_acc, label='yolov5x')\n",
        "plt.scatter(v5x_conf, v5x_acc)\n",
        "\n",
        "plt.plot(v5x_conf, v5m_acc , label='yolov5s')\n",
        "plt.scatter(v5x_conf, v5m_acc )\n",
        "\n",
        "plt.plot(v5x_conf, v5s_acc, label='yolov5s')\n",
        "plt.scatter(v5x_conf, v5s_acc)\n",
        "\n",
        "plt.plot(v5x_conf, v5n_acc, label='yolov5n')\n",
        "plt.scatter(v5x_conf, v5n_acc)\n",
        "plt.legend(prop={'size': 6})\n",
        "plt.show()"
      ],
      "metadata": {
        "colab": {
          "base_uri": "https://localhost:8080/",
          "height": 699
        },
        "id": "7Z0rRrtRLy1l",
        "outputId": "b03c508f-de9f-4719-9687-8935ea636c4c"
      },
      "execution_count": null,
      "outputs": [
        {
          "output_type": "display_data",
          "data": {
            "text/plain": [
              "<Figure size 1000x1000 with 1 Axes>"
            ],
            "image/png": "[encoded data removed]"
          },
          "metadata": {}
        }
      ]
    }
  ],
  "metadata": {
    "colab": {
      "provenance": [],
      "gpuType": "A100",
      "authorship_tag": "ABX9TyPO/pd2RrkY5gzEmPMiyMjV",
      "include_colab_link": true
    },
    "gpuClass": "standard",
    "kernelspec": {
      "display_name": "Python 3",
      "name": "python3"
    },
    "language_info": {
      "name": "python"
    }
  },
  "nbformat": 4,
  "nbformat_minor": 0
}